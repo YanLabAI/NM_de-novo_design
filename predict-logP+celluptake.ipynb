{
 "cells": [
  {
   "cell_type": "markdown",
   "id": "4d7fbaf4",
   "metadata": {},
   "source": [
    "## 导入需要用到的包"
   ]
  },
  {
   "cell_type": "code",
   "execution_count": null,
   "id": "b5fc7984",
   "metadata": {
    "ExecuteTime": {
     "end_time": "2023-08-15T11:06:39.352487Z",
     "start_time": "2023-08-15T11:06:39.335533Z"
    }
   },
   "outputs": [],
   "source": [
    "from sklearn.ensemble import RandomForestRegressor\n",
    "from xgboost import XGBRegressor as XGBR\n",
    "from sklearn.neighbors import KNeighborsRegressor as KNR\n",
    "from sklearn.model_selection import KFold\n",
    "from sklearn.model_selection import cross_val_score,cross_val_predict\n",
    "from sklearn.model_selection import train_test_split\n",
    "from sklearn.preprocessing import StandardScaler\n",
    "from sklearn.metrics import mean_squared_error\n",
    "from mpl_toolkits.mplot3d import Axes3D \n",
    "from sklearn.metrics import r2_score\n",
    "from sklearn.metrics import mean_squared_error as MSE\n",
    "from sklearn.metrics import mean_absolute_error as MAE\n",
    "from sklearn.metrics import log_loss\n",
    "from sklearn.decomposition import PCA\n",
    "import matplotlib\n",
    "import matplotlib.pyplot as plt\n",
    "import matplotlib.cm as cm\n",
    "import seaborn as sns\n",
    "import numpy as np\n",
    "import pandas as pd\n",
    "import os"
   ]
  },
  {
   "cell_type": "markdown",
   "id": "bb7f741e",
   "metadata": {},
   "source": [
    "## 数据读取"
   ]
  },
  {
   "cell_type": "markdown",
   "id": "16b6cb8d",
   "metadata": {},
   "source": [
    "#### logP"
   ]
  },
  {
   "cell_type": "code",
   "execution_count": null,
   "id": "b6c4a820",
   "metadata": {
    "ExecuteTime": {
     "end_time": "2023-08-16T03:45:46.142395Z",
     "start_time": "2023-08-16T03:45:45.850422Z"
    }
   },
   "outputs": [],
   "source": [
    "X_ = pd.read_excel('./S1.xlsx', sheet_name='S1',index_col=0).iloc[:,:]\n",
    "logP = pd.read_excel('./S1.xlsx', sheet_name='logP')\n",
    "Y = logP.iloc[:,1]\n",
    "X = X_.loc[logP.iloc[:,0],:]\n",
    "display(X)"
   ]
  },
  {
   "cell_type": "markdown",
   "id": "2efeb5bf",
   "metadata": {
    "ExecuteTime": {
     "end_time": "2022-09-05T13:34:34.532705Z",
     "start_time": "2022-09-05T13:34:34.530709Z"
    }
   },
   "source": [
    "#### celluptake1"
   ]
  },
  {
   "cell_type": "code",
   "execution_count": null,
   "id": "70e329de",
   "metadata": {
    "ExecuteTime": {
     "end_time": "2023-08-15T12:51:56.773799Z",
     "start_time": "2023-08-15T12:51:56.538428Z"
    }
   },
   "outputs": [],
   "source": [
    "X_ = pd.read_excel('./S1.xlsx', sheet_name='S1',index_col=0).iloc[:,:]\n",
    "logP = pd.read_excel('./S1.xlsx', sheet_name='celluptake1')\n",
    "Y = logP.iloc[:,1]\n",
    "X = X_.loc[logP.iloc[:,0],:]\n",
    "display(X)"
   ]
  },
  {
   "cell_type": "markdown",
   "id": "3d9eefaa",
   "metadata": {},
   "source": [
    "## 预打分"
   ]
  },
  {
   "cell_type": "code",
   "execution_count": null,
   "id": "5a8a241d",
   "metadata": {
    "ExecuteTime": {
     "end_time": "2023-08-15T12:52:01.326994Z",
     "start_time": "2023-08-15T12:52:00.818323Z"
    }
   },
   "outputs": [],
   "source": [
    "Xtrain,Xtest,Ytrain,Ytest = train_test_split(X,Y,test_size=0.2,random_state=100)\n",
    "rfc = RandomForestRegressor(random_state=60)\n",
    "CV_score = cross_val_score(rfc, Xtrain, Ytrain, cv=5).mean()\n",
    "regressor = rfc.fit(Xtrain, Ytrain)\n",
    "score_test = regressor.score(Xtest,Ytest)\n",
    "print(\"5cv:\",CV_score,\"TEST:\",score_test)"
   ]
  },
  {
   "cell_type": "markdown",
   "id": "1703c440",
   "metadata": {},
   "source": [
    "### 设置train_test_split的随机数种子"
   ]
  },
  {
   "cell_type": "code",
   "execution_count": null,
   "id": "6686df87",
   "metadata": {
    "ExecuteTime": {
     "end_time": "2023-08-15T12:59:59.878970Z",
     "start_time": "2023-08-15T12:55:56.205530Z"
    }
   },
   "outputs": [],
   "source": [
    "# CV = 0\n",
    "# test =0\n",
    "for i in range(500):\n",
    "    Xtrain,Xtest,Ytrain,Ytest = train_test_split(X,Y,test_size=0.2,random_state=i)\n",
    "    rfc = RandomForestRegressor(random_state=60)\n",
    "    CV_score = cross_val_score(rfc, Xtrain, Ytrain, cv=5).mean()\n",
    "    regressor = rfc.fit(Xtrain, Ytrain)\n",
    "    score_test = regressor.score(Xtest,Ytest)\n",
    "#     if CV < CV_score and test < score_test:\n",
    "#         CV = CV_score\n",
    "#         test = score_test\n",
    "    if CV_score>0.65 and score_test>0.65:\n",
    "        print(\"5cv:\",CV_score,\"TEST:\",score_test,\"random_state:\",i)"
   ]
  },
  {
   "cell_type": "markdown",
   "id": "cb6e6ec3",
   "metadata": {},
   "source": [
    "### 选择分数较高的train_test_split中的random_state"
   ]
  },
  {
   "cell_type": "code",
   "execution_count": null,
   "id": "a702a06c",
   "metadata": {
    "ExecuteTime": {
     "end_time": "2023-08-16T03:46:11.456837Z",
     "start_time": "2023-08-16T03:46:10.671662Z"
    }
   },
   "outputs": [],
   "source": [
    "# Xtrain,Xtest,Ytrain,Ytest = train_test_split(X,Y,test_size=0.2,random_state=205)# logP\n",
    "Xtrain,Xtest,Ytrain,Ytest = train_test_split(X,Y,test_size=0.2,random_state=408)# celluptake1\n",
    "rfc = RandomForestRegressor(random_state=60)\n",
    "CV_score = cross_val_score(rfc, Xtrain, Ytrain, cv=5).mean()\n",
    "regressor = rfc.fit(Xtrain, Ytrain)\n",
    "score_test = regressor.score(Xtest,Ytest)\n",
    "print(\"5cv:\",CV_score,\"TEST:\",score_test)"
   ]
  },
  {
   "cell_type": "markdown",
   "id": "19f6146c",
   "metadata": {},
   "source": [
    "### 划分数据集后对应粒径\n",
    "#### （不运行，之前已保存）"
   ]
  },
  {
   "cell_type": "code",
   "execution_count": null,
   "id": "2f61fdc5",
   "metadata": {
    "ExecuteTime": {
     "end_time": "2022-07-29T07:34:35.424574Z",
     "start_time": "2022-07-29T07:34:35.410612Z"
    },
    "collapsed": true
   },
   "outputs": [],
   "source": [
    "Xtrain.index"
   ]
  },
  {
   "cell_type": "code",
   "execution_count": null,
   "id": "8a4fa2d6",
   "metadata": {
    "ExecuteTime": {
     "end_time": "2022-07-29T07:35:22.295780Z",
     "start_time": "2022-07-29T07:35:22.250901Z"
    },
    "collapsed": true
   },
   "outputs": [],
   "source": [
    "logP = pd.read_excel('./S1.xlsx', sheet_name='logP',index_col=0)\n",
    "logP"
   ]
  },
  {
   "cell_type": "code",
   "execution_count": null,
   "id": "ddbeea2e",
   "metadata": {
    "ExecuteTime": {
     "end_time": "2022-07-29T07:35:36.283700Z",
     "start_time": "2022-07-29T07:35:36.260759Z"
    },
    "collapsed": true
   },
   "outputs": [],
   "source": [
    "size = logP.loc[Xtrain.index,:]\n",
    "size"
   ]
  },
  {
   "cell_type": "code",
   "execution_count": null,
   "id": "11cd26c6",
   "metadata": {
    "ExecuteTime": {
     "end_time": "2022-07-21T07:58:14.494942Z",
     "start_time": "2022-07-21T07:58:14.464025Z"
    }
   },
   "outputs": [],
   "source": [
    "# pd.DataFrame(size).to_excel('./logP_size.xlsx')"
   ]
  },
  {
   "cell_type": "markdown",
   "id": "04373ede",
   "metadata": {},
   "source": [
    "## RF模型调参"
   ]
  },
  {
   "cell_type": "code",
   "execution_count": null,
   "id": "e09c53f4",
   "metadata": {
    "ExecuteTime": {
     "end_time": "2023-08-15T13:08:54.149545Z",
     "start_time": "2023-08-15T13:00:56.798602Z"
    }
   },
   "outputs": [],
   "source": [
    "score_5cv_all = []\n",
    "for i in range(0, 200, 1):\n",
    "    rfc =RandomForestRegressor(random_state=i)\n",
    "    score_5cv =cross_val_score(rfc, Xtrain, Ytrain, cv=5).mean()\n",
    "    score_5cv_all.append(score_5cv)\n",
    "    pass\n",
    "\n",
    "score_max_5cv = max(score_5cv_all)\n",
    "random_state_5cv = range(0, 200)[score_5cv_all.index(max(score_5cv_all))]\n",
    "\n",
    "print(\"Best_5cv score：{}\".format(score_max_5cv),\n",
    "      \"random_5cv:{}\".format(random_state_5cv))\n",
    "\n",
    "score_5cv_all = []\n",
    "for i in range(1, 400, 1):\n",
    "    rfc = RandomForestRegressor(n_estimators=i\n",
    "                                , random_state=random_state_5cv)\n",
    "    score_5cv = cross_val_score(rfc, Xtrain, Ytrain, cv=5).mean()\n",
    "    score_5cv_all.append(score_5cv)\n",
    "    pass\n",
    "\n",
    "score_max_5cv = max(score_5cv_all)\n",
    "n_est_5cv = range(1,400)[score_5cv_all.index(score_max_5cv)]\n",
    "\n",
    "print(\"Best_5cv score：{}\".format(score_max_5cv),\n",
    "      \"n_est_5cv:{}\".format(n_est_5cv))\n",
    "\n",
    "score_5cv_all = []\n",
    "for i in range(1, 300, 1):\n",
    "    rfc = RandomForestRegressor(n_estimators=n_est_5cv\n",
    "                                ,random_state=random_state_5cv\n",
    "                                ,max_depth=i)\n",
    "    score_5cv = cross_val_score(rfc, Xtrain, Ytrain, cv=5).mean()\n",
    "    score_5cv_all.append(score_5cv)\n",
    "    pass\n",
    "\n",
    "score_max_5cv = max(score_5cv_all)\n",
    "max_depth_5cv = range(1,300)[score_5cv_all.index(score_max_5cv)]\n",
    "\n",
    "print(\"Best_5cv score：{}\".format(score_max_5cv),\n",
    "      \"max_depth_5cv:{}\".format(max_depth_5cv))\n",
    "\n",
    "score_5cv_all = []\n",
    "for i in range(1,X.shape[1]+1):\n",
    "    rfc = RandomForestRegressor(n_estimators=n_est_5cv\n",
    "                                ,random_state=random_state_5cv\n",
    "                                ,max_depth=max_depth_5cv\n",
    "                                ,max_features=i)\n",
    "    score_5cv = cross_val_score(rfc, Xtrain, Ytrain, cv=5).mean()\n",
    "    score_5cv_all.append(score_5cv)\n",
    "    pass\n",
    "\n",
    "score_max_5cv = max(score_5cv_all)\n",
    "max_features_5cv = range(1,X.shape[1]+1)[score_5cv_all.index(score_max_5cv)]\n",
    "\n",
    "print(\"Best_5cv score：{}\".format(score_max_5cv),\n",
    "      \"max_features_5cv:{}\".format(max_features_5cv))"
   ]
  },
  {
   "cell_type": "markdown",
   "id": "24596432",
   "metadata": {},
   "source": [
    "### 使用调整过后的参数"
   ]
  },
  {
   "cell_type": "code",
   "execution_count": null,
   "id": "bf84e75c",
   "metadata": {
    "ExecuteTime": {
     "end_time": "2023-08-16T03:46:29.784868Z",
     "start_time": "2023-08-16T03:46:29.579418Z"
    }
   },
   "outputs": [],
   "source": [
    "from sklearn.metrics import mean_absolute_error\n",
    "\n",
    "rfc = RandomForestRegressor(random_state=21\n",
    "                            ,n_estimators=51\n",
    "                            ,max_depth=8\n",
    "                            ,max_features=37\n",
    "                           )\n",
    "\n",
    "CV_score = cross_val_score(rfc, Xtrain, Ytrain, cv=5).mean()\n",
    "CV_predictions = cross_val_predict(rfc, Xtrain, Ytrain, cv=5)\n",
    "rmse_5cv = np.sqrt(mean_squared_error(Ytrain,CV_predictions))\n",
    "mae_5cv = mean_absolute_error(Ytrain, CV_predictions)\n",
    "print(\"r2_5cv:\",CV_score,\"rmse_5CV\",rmse_5cv, \"mae_5cv\", mae_5cv)\n",
    "\n",
    "regressor = rfc.fit(Xtrain, Ytrain)\n",
    "test_predictions = regressor.predict(Xtest)\n",
    "score_test = regressor.score(Xtest,Ytest)\n",
    "rmse_test = np.sqrt(mean_squared_error(Ytest,test_predictions))\n",
    "mae_test = mean_absolute_error(Ytest, test_predictions)\n",
    "print(\"r2_test:\",score_test,\"rmse_test\",rmse_test, \"mae_test\", mae_test)\n",
    "\n",
    "expvspred_5cv = pd.DataFrame({'Exp_5cv': Ytrain, 'Pred_5cv':CV_predictions})\n",
    "expvspred_test = pd.DataFrame({'Exp_test':Ytest,'Pred_test':test_predictions})\n",
    "\n",
    "writer = pd.ExcelWriter('cytotoxicity_predict_RF.xlsx')\n",
    "expvspred_5cv.to_excel(excel_writer=writer,sheet_name=\"5cv\")\n",
    "expvspred_test.to_excel(excel_writer=writer,sheet_name=\"test\")\n",
    "writer.save()\n"
   ]
  },
  {
   "cell_type": "code",
   "execution_count": null,
   "id": "7c8d67fa",
   "metadata": {
    "ExecuteTime": {
     "end_time": "2023-08-16T01:36:27.646961Z",
     "start_time": "2023-08-16T01:36:25.093372Z"
    },
    "scrolled": true
   },
   "outputs": [],
   "source": [
    "def result_figure(y_test_train, pred_train, y_test_test, pred_test, x_label, y_label, data_neme, model_name, path):\n",
    "#     os.makedirs(\"{}/figure\".format(path), exist_ok=True)\n",
    "#     os.makedirs(\"{}/csv\".format(path), exist_ok=True)\n",
    "    \n",
    "    r2_train = r2_score(y_test_train, pred_train)\n",
    "    r2_test = r2_score(y_test_test, pred_test)\n",
    "\n",
    "    mse_train = MSE(y_test_train, pred_train)\n",
    "    mse_test = MSE(y_test_test, pred_test)\n",
    "\n",
    "    mae_train = MAE(y_test_train, pred_train)\n",
    "    mae_test = MAE(y_test_test, pred_test)\n",
    "    \n",
    "#     pd.concat([pd.DataFrame(pred_train,columns=[\"prediction\"])\n",
    "#                ,pd.DataFrame(y_test_train,columns=['true'])\n",
    "#                ,pd.DataFrame([r2_train],columns=[\"r^2\"])\n",
    "#                ,pd.DataFrame([np.sqrt(mse_train)],columns=['RMSE'])\n",
    "#                ,pd.DataFrame([mae_train],columns=['MAE'])],axis =1).to_csv(\"{}/csv/{}_{}_kf.csv\".format(path, data_neme, model_name), index=None)\n",
    "    \n",
    "#     pd.concat([pd.DataFrame(pred_test,columns=[\"prediction\"])\n",
    "#                ,pd.DataFrame(y_test_test,columns=['true'])\n",
    "#                ,pd.DataFrame([r2_test],columns=[\"r^2\"])\n",
    "#                ,pd.DataFrame([np.sqrt(mse_test)],columns=['RMSE'])\n",
    "#                ,pd.DataFrame([mae_test],columns=['MAE'])],axis =1).to_csv(\"{}/csv/{}_{}_test.csv\".format(path, data_neme, model_name), index=None)\n",
    "    \n",
    "    plt.figure(figsize=[20,20], dpi=300)\n",
    "    # plt.grid()\n",
    "    matplotlib.rcParams['font.family'] = \"Arial\"\n",
    "    plt.title('{}_{}'.format(data_neme, model_name),fontsize=70\n",
    "              ,verticalalignment= 'baseline'\n",
    "              ,horizontalalignment='center')\n",
    "\n",
    "    xmax = int(max(list(pred_train)+list(y_test_train)+list(pred_test)+list(y_test_test)))+1\n",
    "    xmin = int(min(list(pred_train)+list(y_test_train)+list(pred_test)+list(y_test_test)))-1\n",
    "\n",
    "    plt.scatter(y_test_train, pred_train,c=\"royalblue\", s=800 ,edgecolor=\"k\",alpha=0.7, label=\"Train Set\")\n",
    "    plt.scatter(y_test_test, pred_test,c=\"tomato\", s=800 ,edgecolor=\"k\",alpha=0.7, label=\"Test Set\")\n",
    "\n",
    "#     line1 = plt.scatter(-2, -2,c=\"royalblue\", s=1200 ,edgecolor=\"k\",alpha=0.9)\n",
    "#     line2 = plt.scatter(-2, -2,c=\"tomato\", s=1200 ,edgecolor=\"k\",alpha=0.9)\n",
    "\n",
    "    plt.plot(range(xmin,xmax+1),range(xmin,xmax+1),c='k',linewidth=3, linestyle=\"--\", alpha=0.6)\n",
    "    plt.xlabel(x_label,fontsize=50)\n",
    "    plt.ylabel(y_label,fontsize=50, fontdict={\"family\":\"Arial\"})\n",
    "#     labels = [\"\"]+[str(i) for i in range(xmin+1,xmax+1)]\n",
    "    plt.yticks(ticks=range(xmin,xmax+1,2), labels=range(xmin,xmax+1,2), fontsize=40)\n",
    "    plt.xticks(ticks=range(xmin,xmax+1,2), labels=range(xmin,xmax+1,2), fontsize=40)\n",
    "    plt.xlim(xmin,xmax)\n",
    "    plt.ylim(xmin,xmax)\n",
    "    plt.legend(fontsize=50, labels=['Train Set','Test Set'], framealpha=0)\n",
    "    # 标注R2和RMSE\n",
    "    text = \"R2_5cv={}\\nRMSE_5cv={}\\nR2_test={}\\nRMSE_test={}\\n\".format(round(r2_train,2),round(np.sqrt(mse_train),2),round(r2_test,2),round(np.sqrt(mse_test),2))\n",
    "#     superscript = str.maketrans(\"2\", \"²\")\n",
    "#     superscript_text = text.translate(superscript)\n",
    "    plt.text(14, -1, text, fontsize=50, color=\"black\")\n",
    "    plt.savefig(\"{}_{}.png\".format(data_neme, model_name))\n",
    "    plt.show()\n",
    "result_figure(Ytrain, CV_predictions, Ytest, test_predictions, \"Actual Values\", \"Predicted Values\", \"celluptake\", \"RF\", \"./\")"
   ]
  },
  {
   "cell_type": "markdown",
   "id": "8364fab5",
   "metadata": {},
   "source": [
    "## 特征重要性分析"
   ]
  },
  {
   "cell_type": "code",
   "execution_count": null,
   "id": "1ac64b1c",
   "metadata": {
    "ExecuteTime": {
     "end_time": "2023-08-16T01:27:03.386738Z",
     "start_time": "2023-08-16T01:27:03.221181Z"
    }
   },
   "outputs": [],
   "source": [
    "importances = rfc.feature_importances_\n",
    "\n",
    "plt.figure(figsize=[12,9])\n",
    "plt.title(\"celluptake_Top10 importances\", fontsize=40)\n",
    "plt.bar(range(10), np.sort(importances)[::-1][:10],color='green')\n",
    "importances_index_reverse = np.argsort(importances)[::-1][:10]\n",
    "plt.xticks(range(10), X.columns[importances_index_reverse],fontsize=20,rotation=45)\n",
    "plt.yticks(fontsize=20)\n",
    "plt.savefig('./ct_Top10 importances.png')\n",
    "plt.show()"
   ]
  },
  {
   "cell_type": "code",
   "execution_count": null,
   "id": "1e2b3906",
   "metadata": {},
   "outputs": [],
   "source": [
    "pd.DataFrame(np.sort(importances)[::-1][:10],X.columns[importances_index_reverse])"
   ]
  },
  {
   "cell_type": "markdown",
   "id": "35acdf25",
   "metadata": {},
   "source": [
    "## 预测新数据"
   ]
  },
  {
   "cell_type": "code",
   "execution_count": null,
   "id": "81d30409",
   "metadata": {
    "ExecuteTime": {
     "end_time": "2023-08-16T03:47:01.547816Z",
     "start_time": "2023-08-16T03:47:01.494957Z"
    }
   },
   "outputs": [],
   "source": [
    "generate = pd.read_csv('./generate_out_xa.csv',index_col=0)#.iloc[:,1:]\n",
    "generate_prediction = regressor.predict(generate)\n",
    "pd.DataFrame(generate_prediction).to_excel('./logP_pred_gene_RF.xlsx')"
   ]
  },
  {
   "cell_type": "markdown",
   "id": "0306cae2",
   "metadata": {},
   "source": [
    "## 主成分分析"
   ]
  },
  {
   "cell_type": "code",
   "execution_count": null,
   "id": "a843460c",
   "metadata": {
    "ExecuteTime": {
     "end_time": "2023-08-16T03:45:11.722458Z",
     "start_time": "2023-08-16T03:45:11.569907Z"
    }
   },
   "outputs": [],
   "source": [
    "database = pd.read_csv('./SupplementaryData_AuAgPtPd_xa.csv',index_col=0).iloc[:,1:]\n",
    "generate = pd.read_csv('./generate_out_xa.csv',index_col=0)#.iloc[:,1:]\n",
    "\n",
    "pca = PCA(n_components=3,copy=True,random_state=8)\n",
    "\n",
    "databasePCA = pca.fit_transform(database)\n",
    "pd.DataFrame(databasePCA).to_excel('./PCA_database.xlsx')\n",
    "generatePCA = pca.fit_transform(generate)\n",
    "pd.DataFrame(generatePCA).to_excel('./PCA_generate.xlsx')"
   ]
  },
  {
   "cell_type": "markdown",
   "id": "6baf5d4b",
   "metadata": {},
   "source": [
    "********************"
   ]
  },
  {
   "cell_type": "markdown",
   "id": "cb1e79d0",
   "metadata": {},
   "source": [
    "# XGBoost"
   ]
  },
  {
   "cell_type": "markdown",
   "id": "7faca4d0",
   "metadata": {},
   "source": [
    "### 预打分"
   ]
  },
  {
   "cell_type": "code",
   "execution_count": null,
   "id": "233d941e",
   "metadata": {
    "ExecuteTime": {
     "end_time": "2022-07-29T14:00:32.418815Z",
     "start_time": "2022-07-29T14:00:31.946832Z"
    }
   },
   "outputs": [],
   "source": [
    "Xtrain,Xtest,Ytrain,Ytest = train_test_split(X,Y,test_size=0.2,random_state=100)\n",
    "XGB = XGBR(random_state=60)\n",
    "CV_score = cross_val_score(XGB, Xtrain, Ytrain, cv=5).mean()\n",
    "regressor = XGB.fit(Xtrain, Ytrain)\n",
    "score_test = regressor.score(Xtest,Ytest)\n",
    "print(\"5cv:\",CV_score,\"TEST:\",score_test)"
   ]
  },
  {
   "cell_type": "markdown",
   "id": "130f36dc",
   "metadata": {},
   "source": [
    "### 设置train_test_split的随机数种子，输出CV_score>0.60 and score_test>0.70的打分和random_state值\n",
    "#### 不运行，已有运行结果"
   ]
  },
  {
   "cell_type": "code",
   "execution_count": null,
   "id": "69d55a1d",
   "metadata": {
    "ExecuteTime": {
     "end_time": "2022-07-29T14:12:55.167339Z",
     "start_time": "2022-07-29T14:08:37.038664Z"
    }
   },
   "outputs": [],
   "source": [
    "# CV = 0\n",
    "# test =0\n",
    "for i in range(500):\n",
    "    Xtrain,Xtest,Ytrain,Ytest = train_test_split(X,Y,test_size=0.2,random_state=i)\n",
    "    XGB = XGBR(random_state=60)\n",
    "    CV_score = cross_val_score(XGB, Xtrain, Ytrain, cv=5).mean()\n",
    "    regressor = XGB.fit(Xtrain, Ytrain)\n",
    "    score_test = regressor.score(Xtest,Ytest)\n",
    "#     if CV < CV_score and test < score_test:\n",
    "#         CV = CV_score\n",
    "#         test = score_test\n",
    "    if CV_score>0.55 and score_test>0.65:\n",
    "        print(\"5cv:\",CV_score,\"TEST:\",score_test,\"random_state:\",i)"
   ]
  },
  {
   "cell_type": "code",
   "execution_count": null,
   "id": "489751ad",
   "metadata": {
    "ExecuteTime": {
     "end_time": "2022-07-29T14:13:41.466432Z",
     "start_time": "2022-07-29T14:13:41.453467Z"
    }
   },
   "outputs": [],
   "source": [
    "Xtrain,Xtest,Ytrain,Ytest = train_test_split(X,Y,test_size=0.2,random_state=113)"
   ]
  },
  {
   "cell_type": "code",
   "execution_count": null,
   "id": "856f719f",
   "metadata": {
    "ExecuteTime": {
     "end_time": "2022-07-29T14:13:44.636231Z",
     "start_time": "2022-07-29T14:13:44.164985Z"
    }
   },
   "outputs": [],
   "source": [
    "XGB = XGBR(random_state=60)\n",
    "CV_score = cross_val_score(XGB, Xtrain, Ytrain, cv=5).mean()\n",
    "regressor = XGB.fit(Xtrain, Ytrain)\n",
    "score_test = regressor.score(Xtest,Ytest)\n",
    "print(\"5cv:\",CV_score,\"TEST:\",score_test)"
   ]
  },
  {
   "cell_type": "markdown",
   "id": "48454aea",
   "metadata": {},
   "source": [
    "### Random_state"
   ]
  },
  {
   "cell_type": "code",
   "execution_count": null,
   "id": "9677e46c",
   "metadata": {
    "ExecuteTime": {
     "end_time": "2022-07-29T14:15:12.254611Z",
     "start_time": "2022-07-29T14:13:50.494387Z"
    }
   },
   "outputs": [],
   "source": [
    "score_5cv_all = []\n",
    "for i in range(0, 200, 1):\n",
    "    XGB =XGBR(random_state=i)\n",
    "    score_5cv =cross_val_score(XGB, Xtrain, Ytrain, cv=5).mean()\n",
    "    score_5cv_all.append(score_5cv)\n",
    "    pass\n",
    "score_max_5cv = max(score_5cv_all)\n",
    "random_state_5cv = range(0, 200)[score_5cv_all.index(max(score_5cv_all))]\n",
    "\n",
    "print(\"Best_5cv score：{}\".format(score_max_5cv),\n",
    "      \"random_state_5cv:{}\".format(random_state_5cv))"
   ]
  },
  {
   "cell_type": "markdown",
   "id": "12feb18b",
   "metadata": {},
   "source": [
    "### learning_rate"
   ]
  },
  {
   "cell_type": "code",
   "execution_count": null,
   "id": "80ba6106",
   "metadata": {
    "ExecuteTime": {
     "end_time": "2022-07-29T14:17:03.797299Z",
     "start_time": "2022-07-29T14:16:43.588414Z"
    }
   },
   "outputs": [],
   "source": [
    "score_5cv_all = []\n",
    "for i in np.arange(0.01, 0.5, 0.01):\n",
    "    XGB = XGBR(learning_rate=i\n",
    "              ,random_state=random_state_5cv)\n",
    "    score_5cv = cross_val_score(XGB, Xtrain, Ytrain, cv=5).mean()\n",
    "    score_5cv_all.append(score_5cv)\n",
    "    pass\n",
    "score_max_5cv = max(score_5cv_all)\n",
    "n_lr_5cv = np.arange(0.01,0.5,0.01)[score_5cv_all.index(score_max_5cv)]\n",
    "\n",
    "print(\"Best_5cv score：{}\".format(score_max_5cv),\n",
    "      \"n_lr_5cv:{}\".format(n_lr_5cv))"
   ]
  },
  {
   "cell_type": "markdown",
   "id": "792a47dc",
   "metadata": {},
   "source": [
    "### N_estimators"
   ]
  },
  {
   "cell_type": "code",
   "execution_count": null,
   "id": "dfbcbaf0",
   "metadata": {
    "ExecuteTime": {
     "end_time": "2022-07-29T14:21:42.417099Z",
     "start_time": "2022-07-29T14:17:16.334378Z"
    }
   },
   "outputs": [],
   "source": [
    "score_5cv_all = []\n",
    "for i in range(1, 400, 1):\n",
    "    XGB = XGBR(n_estimators=i\n",
    "               ,learning_rate=n_lr_5cv\n",
    "               ,random_state=random_state_5cv)\n",
    "    score_5cv = cross_val_score(XGB, Xtrain, Ytrain, cv=5).mean()\n",
    "    score_5cv_all.append(score_5cv)\n",
    "    pass\n",
    "score_max_5cv = max(score_5cv_all)\n",
    "n_est_5cv = range(1,400)[score_5cv_all.index(score_max_5cv)]\n",
    "\n",
    "print(\"Best_5cv score：{}\".format(score_max_5cv),\n",
    "      \"n_est_5cv:{}\".format(n_est_5cv))"
   ]
  },
  {
   "cell_type": "markdown",
   "id": "e7cffad4",
   "metadata": {},
   "source": [
    "### Max_depth"
   ]
  },
  {
   "cell_type": "code",
   "execution_count": null,
   "id": "371ced76",
   "metadata": {
    "ExecuteTime": {
     "end_time": "2022-07-29T14:23:14.976715Z",
     "start_time": "2022-07-29T14:22:41.893945Z"
    }
   },
   "outputs": [],
   "source": [
    "score_5cv_all = []\n",
    "for i in range(1, 300, 1):\n",
    "    XGB = XGBR(n_estimators=n_est_5cv\n",
    "               ,learning_rate=n_lr_5cv\n",
    "               ,random_state=random_state_5cv\n",
    "               ,max_depth=i)\n",
    "    score_5cv = cross_val_score(XGB, Xtrain, Ytrain, cv=5).mean()\n",
    "    score_5cv_all.append(score_5cv)\n",
    "    pass\n",
    "score_max_5cv = max(score_5cv_all)\n",
    "max_depth_5cv = range(1,300)[score_5cv_all.index(score_max_5cv)]\n",
    "\n",
    "print(\"Best_5cv score：{}\".format(score_max_5cv),\n",
    "      \"max_depth_5cv:{}\".format(max_depth_5cv))"
   ]
  },
  {
   "cell_type": "markdown",
   "id": "717d9bb7",
   "metadata": {},
   "source": [
    "### Gamma"
   ]
  },
  {
   "cell_type": "code",
   "execution_count": null,
   "id": "2750cfe0",
   "metadata": {
    "ExecuteTime": {
     "end_time": "2022-07-29T14:25:00.511687Z",
     "start_time": "2022-07-29T14:24:51.189129Z"
    }
   },
   "outputs": [],
   "source": [
    "score_5cv_all = []\n",
    "for i in np.arange(0,5,0.05):\n",
    "    XGB = XGBR(n_estimators=n_est_5cv\n",
    "               ,learning_rate=n_lr_5cv\n",
    "               ,random_state=random_state_5cv\n",
    "               ,max_depth=max_depth_5cv\n",
    "               ,gamma=i)\n",
    "    score_5cv = cross_val_score(XGB, Xtrain, Ytrain, cv=5).mean()\n",
    "    score_5cv_all.append(score_5cv)\n",
    "    pass\n",
    "score_max_5cv = max(score_5cv_all)\n",
    "max_gamma_5cv =  np.arange(0,5,0.05)[score_5cv_all.index(score_max_5cv)]\n",
    "print(\"Best_5cv score：{}\".format(score_max_5cv),\n",
    "      \"max_gamma_5cv:{}\".format(max_gamma_5cv))"
   ]
  },
  {
   "cell_type": "markdown",
   "id": "6a4479ac",
   "metadata": {},
   "source": [
    "### Alpha"
   ]
  },
  {
   "cell_type": "code",
   "execution_count": null,
   "id": "b20742fa",
   "metadata": {
    "ExecuteTime": {
     "end_time": "2022-07-29T14:25:18.932001Z",
     "start_time": "2022-07-29T14:25:09.923422Z"
    }
   },
   "outputs": [],
   "source": [
    "score_5cv_all = []\n",
    "for i in np.arange(0,5,0.05):\n",
    "    XGB = XGBR(n_estimators=n_est_5cv,\n",
    "               learning_rate=n_lr_5cv\n",
    "               ,random_state=random_state_5cv\n",
    "               ,max_depth=max_depth_5cv\n",
    "               ,gamma=max_gamma_5cv \n",
    "               ,alpha=i)\n",
    "    score_5cv = cross_val_score(XGB, Xtrain, Ytrain, cv=5).mean()\n",
    "    score_5cv_all.append(score_5cv)\n",
    "    pass\n",
    "score_max_5cv = max(score_5cv_all)\n",
    "max_alpha_5cv =  np.arange(0,5,0.05)[score_5cv_all.index(score_max_5cv)]\n",
    "\n",
    "print(\"Best_5cv score：{}\".format(score_max_5cv),\n",
    "      \"max_alpha_5cv:{}\".format(max_alpha_5cv))"
   ]
  },
  {
   "cell_type": "markdown",
   "id": "98c8fabe",
   "metadata": {},
   "source": [
    "## 使用调整过后的参数"
   ]
  },
  {
   "cell_type": "code",
   "execution_count": null,
   "id": "94f8a36b",
   "metadata": {
    "ExecuteTime": {
     "end_time": "2022-07-29T14:25:23.472784Z",
     "start_time": "2022-07-29T14:25:23.268333Z"
    },
    "code_folding": []
   },
   "outputs": [],
   "source": [
    "XGB = XGBR(learning_rate=n_lr_5cv\n",
    "           ,n_estimators=n_est_5cv\n",
    "           ,random_state=random_state_5cv\n",
    "           ,max_depth=max_depth_5cv\n",
    "           ,gamma =max_gamma_5cv\n",
    "           ,alpha = max_alpha_5cv)\n",
    "CV_score = cross_val_score(XGB, Xtrain, Ytrain, cv=5).mean()\n",
    "CV_predictions = cross_val_predict(XGB, Xtrain, Ytrain, cv=5)\n",
    "rmse = np.sqrt(mean_squared_error(Ytrain,CV_predictions))\n",
    "print(\"r2_5cv:\",CV_score,\"rmse_5CV\",rmse)\n",
    "# expvspred_5cv = {'Exp': Ytrain, 'Pred':CV_predictions}\n",
    "# pd.DataFrame(expvspred_5cv).to_excel('./XGB_5fcv_predictions_logP.xlsx')"
   ]
  },
  {
   "cell_type": "code",
   "execution_count": null,
   "id": "683b0744",
   "metadata": {
    "ExecuteTime": {
     "end_time": "2022-07-29T14:25:24.399428Z",
     "start_time": "2022-07-29T14:25:24.364525Z"
    }
   },
   "outputs": [],
   "source": [
    "XGB = XGBR(learning_rate=n_lr_5cv\n",
    "           ,n_estimators=n_est_5cv\n",
    "           ,random_state=random_state_5cv\n",
    "           ,max_depth=max_depth_5cv\n",
    "           ,gamma =max_gamma_5cv\n",
    "           ,alpha = max_alpha_5cv)\n",
    "regressor = XGB.fit(Xtrain, Ytrain)\n",
    "test_predictions = regressor.predict(Xtest)\n",
    "score_test = regressor.score(Xtest,Ytest)\n",
    "rmse = np.sqrt(mean_squared_error(Ytest,test_predictions))\n",
    "print(\"r2_test:\",score_test,\"rmse_test\",rmse)\n",
    "# expvspred_test = {'Exp':Ytest,'Pred':test_predictions}\n",
    "# pd.DataFrame(expvspred_test).to_excel('./XGB_test_predictions_logPsx')"
   ]
  },
  {
   "cell_type": "code",
   "execution_count": null,
   "id": "3ce1dc36",
   "metadata": {
    "ExecuteTime": {
     "end_time": "2022-06-01T13:43:01.650647Z",
     "start_time": "2022-06-01T13:42:58.820718Z"
    }
   },
   "outputs": [],
   "source": [
    "result_figure(Ytrain, CV_predictions, Ytest, test_predictions, \"Actual Values\", \"Predicted Values\", \"Presentation_data\", \"XGBoost\", \"./results_xgb\")"
   ]
  },
  {
   "cell_type": "markdown",
   "id": "19d17c40",
   "metadata": {},
   "source": [
    "# KNN"
   ]
  },
  {
   "cell_type": "markdown",
   "id": "61b8b5df",
   "metadata": {},
   "source": [
    "### 预打分"
   ]
  },
  {
   "cell_type": "code",
   "execution_count": null,
   "id": "f911baeb",
   "metadata": {
    "ExecuteTime": {
     "end_time": "2022-07-29T14:25:42.764870Z",
     "start_time": "2022-07-29T14:25:42.716002Z"
    }
   },
   "outputs": [],
   "source": [
    "Xtrain,Xtest,Ytrain,Ytest = train_test_split(X,Y,test_size=0.2,random_state=100)\n",
    "knr = KNR()# 默认参数，创建空分类器\n",
    "CV_score = cross_val_score(knr, Xtrain, Ytrain, cv=5).mean()\n",
    "regressor = knr.fit(Xtrain, Ytrain)\n",
    "score_test = regressor.score(Xtest,Ytest)\n",
    "print(\"5cv:\",CV_score,\"TEST:\",score_test)"
   ]
  },
  {
   "cell_type": "markdown",
   "id": "9178fd6c",
   "metadata": {},
   "source": [
    "### 设置train_test_split的随机数种子，输出CV_score>0.60 and score_test>0.70的打分和random_state值\n",
    "#### 不运行，已有运行结果"
   ]
  },
  {
   "cell_type": "code",
   "execution_count": null,
   "id": "5527340b",
   "metadata": {
    "ExecuteTime": {
     "end_time": "2022-07-29T14:25:56.253669Z",
     "start_time": "2022-07-29T14:25:46.624879Z"
    }
   },
   "outputs": [],
   "source": [
    "# CV = 0\n",
    "# test =0\n",
    "for i in range(500):\n",
    "    Xtrain,Xtest,Ytrain,Ytest = train_test_split(X,Y,test_size=0.2,random_state=i)\n",
    "    knr = KNR()\n",
    "    CV_score = cross_val_score(knr, Xtrain, Ytrain, cv=5).mean()\n",
    "    regressor = knr.fit(Xtrain, Ytrain)\n",
    "    score_test = regressor.score(Xtest,Ytest)\n",
    "#     if CV < CV_score and test < score_test:\n",
    "#         CV = CV_score\n",
    "#         test = score_test\n",
    "    if CV_score>0.60 and score_test>0.70:\n",
    "        print(\"5cv:\",CV_score,\"TEST:\",score_test,\"random_state:\",i)"
   ]
  },
  {
   "cell_type": "code",
   "execution_count": null,
   "id": "f801d047",
   "metadata": {
    "ExecuteTime": {
     "end_time": "2022-07-29T14:26:09.649048Z",
     "start_time": "2022-07-29T14:26:09.629102Z"
    }
   },
   "outputs": [],
   "source": [
    "Xtrain,Xtest,Ytrain,Ytest = train_test_split(X,Y,test_size=0.2,random_state=266)"
   ]
  },
  {
   "cell_type": "code",
   "execution_count": null,
   "id": "3f42d69c",
   "metadata": {
    "ExecuteTime": {
     "end_time": "2022-07-29T14:26:10.460551Z",
     "start_time": "2022-07-29T14:26:10.426640Z"
    }
   },
   "outputs": [],
   "source": [
    "knr = KNR()# 默认参数，创建空分类器\n",
    "CV_score = cross_val_score(knr, Xtrain, Ytrain, cv=5).mean()\n",
    "regressor = knr.fit(Xtrain, Ytrain)\n",
    "score_test = regressor.score(Xtest,Ytest)\n",
    "print(\"5cv:\",CV_score,\"TEST:\",score_test)"
   ]
  },
  {
   "cell_type": "markdown",
   "id": "f348e70b",
   "metadata": {},
   "source": [
    "### 网格搜索"
   ]
  },
  {
   "cell_type": "code",
   "execution_count": null,
   "id": "e3ab7216",
   "metadata": {
    "ExecuteTime": {
     "end_time": "2022-07-29T14:26:14.505229Z",
     "start_time": "2022-07-29T14:26:14.496285Z"
    }
   },
   "outputs": [],
   "source": [
    "param_grid = [\n",
    "    {  # 需遍历10次\n",
    "        'weights': ['uniform'], # 参数取值范围\n",
    "        'n_neighbors': [i for i in range(1, 11)]  # 使用其他方式如np.arange()也可以\n",
    "        # 这里没有p参数\n",
    "    },\n",
    "    {  # 需遍历50次\n",
    "        'weights': ['distance'],\n",
    "        'n_neighbors': [i for i in range(1, 11)],\n",
    "        'p': [i for i in range(1, 6)]\n",
    "    }\n",
    "]# 共需遍历60次"
   ]
  },
  {
   "cell_type": "code",
   "execution_count": null,
   "id": "83fdd81c",
   "metadata": {
    "ExecuteTime": {
     "end_time": "2022-07-29T14:26:18.805007Z",
     "start_time": "2022-07-29T14:26:17.237182Z"
    }
   },
   "outputs": [],
   "source": [
    "from sklearn.model_selection import GridSearchCV  # CV，使用交叉验证方式获得模型正确率\n",
    "grid_search = GridSearchCV(knr, param_grid, cv=5)  # 网格搜索参数\n",
    "\n",
    "grid_search.fit(Xtrain, Ytrain)  # 网格搜索训练模型"
   ]
  },
  {
   "cell_type": "code",
   "execution_count": null,
   "id": "42ec1ffc",
   "metadata": {
    "ExecuteTime": {
     "end_time": "2022-07-29T14:26:23.411202Z",
     "start_time": "2022-07-29T14:26:23.398236Z"
    }
   },
   "outputs": [],
   "source": [
    "grid_search.best_estimator_"
   ]
  },
  {
   "cell_type": "code",
   "execution_count": null,
   "id": "bf5db4a8",
   "metadata": {
    "ExecuteTime": {
     "end_time": "2022-07-29T14:26:25.103767Z",
     "start_time": "2022-07-29T14:26:25.093795Z"
    }
   },
   "outputs": [],
   "source": [
    "grid_search.score(Xtest, Ytest)"
   ]
  },
  {
   "cell_type": "code",
   "execution_count": null,
   "id": "51e13046",
   "metadata": {
    "ExecuteTime": {
     "end_time": "2022-07-29T14:26:27.267052Z",
     "start_time": "2022-07-29T14:26:27.199235Z"
    }
   },
   "outputs": [],
   "source": [
    "knr=grid_search.best_estimator_\n",
    "\n",
    "CV_score = cross_val_score(knr, Xtrain, Ytrain, cv=5).mean()\n",
    "CV_predictions = cross_val_predict(knr, Xtrain, Ytrain, cv=5)\n",
    "rmse_5cv = np.sqrt(mean_squared_error(Ytrain,CV_predictions))\n",
    "regressor=knr.fit(Xtrain, Ytrain)\n",
    "score_test = regressor.score(Xtest,Ytest)\n",
    "test_predictions = regressor.predict(Xtest)\n",
    "rmse_test = np.sqrt(mean_squared_error(Ytest,test_predictions))\n",
    "\n",
    "print(\"5cv:\",CV_score,\"rmse_5cv:\",rmse_5cv)\n",
    "print(\"test:\",score_test,\"rmse_test:\",rmse_test)"
   ]
  },
  {
   "cell_type": "markdown",
   "id": "c17f6e77",
   "metadata": {},
   "source": [
    "******"
   ]
  },
  {
   "cell_type": "markdown",
   "id": "ba816bee",
   "metadata": {},
   "source": [
    "## 用全部的数据做五折"
   ]
  },
  {
   "cell_type": "markdown",
   "id": "4796b81d",
   "metadata": {},
   "source": [
    "#### logP"
   ]
  },
  {
   "cell_type": "code",
   "execution_count": null,
   "id": "cdaffb6e",
   "metadata": {
    "ExecuteTime": {
     "end_time": "2022-08-01T06:59:36.205673Z",
     "start_time": "2022-08-01T06:59:21.262301Z"
    }
   },
   "outputs": [],
   "source": [
    "# data=pd.read_excel(r'd:\\Desktop\\task0\\predict_model\\model2\\S12.xlsx',sheet_name='logP').to_numpy()\n",
    "\n",
    "# X = data[:,3:129]\n",
    "# y = data[:,2]"
   ]
  },
  {
   "cell_type": "markdown",
   "id": "d60cb1d7",
   "metadata": {
    "ExecuteTime": {
     "end_time": "2022-09-05T13:57:20.197774Z",
     "start_time": "2022-09-05T13:57:20.189796Z"
    }
   },
   "source": [
    "#### celluptake1"
   ]
  },
  {
   "cell_type": "code",
   "execution_count": null,
   "id": "df76e366",
   "metadata": {
    "ExecuteTime": {
     "end_time": "2022-09-05T13:58:35.743316Z",
     "start_time": "2022-09-05T13:58:31.259176Z"
    }
   },
   "outputs": [],
   "source": [
    "data=pd.read_excel(r'd:\\Desktop\\task0\\predict_model\\model2\\S12.xlsx',sheet_name='celluptake1').to_numpy()\n",
    "\n",
    "X = data[:,3:129]\n",
    "y = data[:,2]"
   ]
  },
  {
   "cell_type": "markdown",
   "id": "8a437472",
   "metadata": {},
   "source": [
    "## RF"
   ]
  },
  {
   "cell_type": "code",
   "execution_count": null,
   "id": "22ed7646",
   "metadata": {
    "ExecuteTime": {
     "end_time": "2022-09-05T14:02:55.125100Z",
     "start_time": "2022-09-05T13:59:21.045083Z"
    }
   },
   "outputs": [],
   "source": [
    "for i in range(0,500):\n",
    "    kf = KFold(n_splits= 5,shuffle=True,random_state=i)\n",
    "\n",
    "    score_all=[]\n",
    "    for train_index, test_index in kf.split(X):\n",
    "        rfr = RandomForestRegressor(random_state=60)\n",
    "        # train_index 就是分类的训练集的下标，test_index 就是分配的验证集的下标\n",
    "        train_x, train_y = X[train_index], y[train_index]  # 本组训练集\n",
    "        test_x, test_y = X[test_index], y[test_index]  # 本组验证集\n",
    "        prediction = rfr.fit(train_x, train_y).predict(test_x)\n",
    "        score = r2_score(test_y, prediction)\n",
    "        score_all.append(score)\n",
    "\n",
    "    score_mean = np.mean(score_all)\n",
    "    if score_mean > 0.70:\n",
    "        print('r2_score:',score_mean,\"random_state:\",i)"
   ]
  },
  {
   "cell_type": "code",
   "execution_count": null,
   "id": "0edf101a",
   "metadata": {
    "ExecuteTime": {
     "end_time": "2022-09-05T14:03:05.101654Z",
     "start_time": "2022-09-05T14:03:04.660762Z"
    }
   },
   "outputs": [],
   "source": [
    "kf = KFold(n_splits= 5,shuffle=True,random_state=100)\n",
    "\n",
    "score_all=[]\n",
    "for train_index, test_index in kf.split(X):\n",
    "    rfr = RandomForestRegressor(random_state=60)\n",
    "    train_x, train_y = X[train_index], y[train_index]\n",
    "    test_x, test_y = X[test_index], y[test_index]\n",
    "    prediction = rfr.fit(train_x, train_y).predict(test_x)\n",
    "    score = r2_score(test_y, prediction)\n",
    "    score_all.append(score)\n",
    "\n",
    "score_mean = np.mean(score_all)\n",
    "print('r2_score:',score_mean)"
   ]
  },
  {
   "cell_type": "markdown",
   "id": "c61c5917",
   "metadata": {},
   "source": [
    "### random_state"
   ]
  },
  {
   "cell_type": "code",
   "execution_count": null,
   "id": "1cdb61c7",
   "metadata": {
    "ExecuteTime": {
     "end_time": "2022-09-05T14:04:41.130361Z",
     "start_time": "2022-09-05T14:03:15.195412Z"
    }
   },
   "outputs": [],
   "source": [
    "score_5cv_all = []\n",
    "for i in range(0, 200, 1):\n",
    "    score_all=[]\n",
    "    for train_index, test_index in kf.split(X):\n",
    "        rfr =RandomForestRegressor(random_state=i)\n",
    "        train_x, train_y = X[train_index], y[train_index]\n",
    "        test_x, test_y = X[test_index], y[test_index]\n",
    "        prediction = rfr.fit(train_x, train_y).predict(test_x)\n",
    "        score = r2_score(test_y, prediction)\n",
    "        score_all.append(score)\n",
    "        \n",
    "    score_mean = np.mean(score_all)\n",
    "    score_5cv_all.append(score_mean)\n",
    "    \n",
    "score_max_5cv = max(score_5cv_all)\n",
    "random_state_5cv = range(0, 200)[score_5cv_all.index(max(score_5cv_all))]\n",
    "\n",
    "print(\"Best_5cv score：{}\".format(score_max_5cv),\n",
    "      \"random_5cv:{}\".format(random_state_5cv))"
   ]
  },
  {
   "cell_type": "markdown",
   "id": "b9830837",
   "metadata": {},
   "source": [
    "### n_estimators"
   ]
  },
  {
   "cell_type": "code",
   "execution_count": null,
   "id": "b398a172",
   "metadata": {
    "ExecuteTime": {
     "end_time": "2022-09-05T14:10:34.964432Z",
     "start_time": "2022-09-05T14:04:54.136638Z"
    }
   },
   "outputs": [],
   "source": [
    "score_5cv_all = []\n",
    "for i in range(1, 400, 1):\n",
    "    score_all=[]\n",
    "    for train_index, test_index in kf.split(X):\n",
    "        rfr = RandomForestRegressor(n_estimators=i\n",
    "                                   ,random_state=random_state_5cv)\n",
    "        train_x, train_y = X[train_index], y[train_index]\n",
    "        test_x, test_y = X[test_index], y[test_index]\n",
    "        prediction = rfr.fit(train_x, train_y).predict(test_x)\n",
    "        score = r2_score(test_y, prediction)\n",
    "        score_all.append(score)\n",
    "        \n",
    "    score_mean = np.mean(score_all)\n",
    "    score_5cv_all.append(score_mean)\n",
    "    \n",
    "score_max_5cv = max(score_5cv_all)\n",
    "n_est_5cv = range(1,400)[score_5cv_all.index(score_max_5cv)]\n",
    "\n",
    "print(\"Best_5cv score：{}\".format(score_max_5cv),\n",
    "      \"n_est_5cv:{}\".format(n_est_5cv))"
   ]
  },
  {
   "cell_type": "markdown",
   "id": "154943fe",
   "metadata": {},
   "source": [
    "### max_depth"
   ]
  },
  {
   "cell_type": "code",
   "execution_count": null,
   "id": "de7f5e14",
   "metadata": {
    "ExecuteTime": {
     "end_time": "2022-09-05T14:11:02.950238Z",
     "start_time": "2022-09-05T14:10:34.997338Z"
    }
   },
   "outputs": [],
   "source": [
    "score_5cv_all = []\n",
    "for i in range(1, 300, 1):\n",
    "    score_all=[]\n",
    "    for train_index, test_index in kf.split(X):\n",
    "        rfr = RandomForestRegressor(n_estimators=n_est_5cv\n",
    "                                ,random_state=random_state_5cv\n",
    "                                ,max_depth=i)\n",
    "        train_x, train_y = X[train_index], y[train_index]\n",
    "        test_x, test_y = X[test_index], y[test_index]\n",
    "        prediction = rfr.fit(train_x, train_y).predict(test_x)\n",
    "        score = r2_score(test_y, prediction)\n",
    "        score_all.append(score)\n",
    "        \n",
    "    score_mean = np.mean(score_all)\n",
    "    score_5cv_all.append(score_mean)\n",
    "    \n",
    "score_max_5cv = max(score_5cv_all)\n",
    "max_depth_5cv = range(1,300)[score_5cv_all.index(score_max_5cv)]\n",
    "\n",
    "print(\"Best_5cv score：{}\".format(score_max_5cv),\n",
    "      \"max_depth_5cv:{}\".format(max_depth_5cv))"
   ]
  },
  {
   "cell_type": "markdown",
   "id": "acc8b1b4",
   "metadata": {},
   "source": [
    "### max_features"
   ]
  },
  {
   "cell_type": "code",
   "execution_count": null,
   "id": "a01d61b9",
   "metadata": {
    "ExecuteTime": {
     "end_time": "2022-09-05T14:11:12.518657Z",
     "start_time": "2022-09-05T14:11:02.984113Z"
    }
   },
   "outputs": [],
   "source": [
    "score_5cv_all = []\n",
    "for i in range(int(X.shape[1]**0.1)+1, X.shape[1]):\n",
    "    score_all=[]\n",
    "    for train_index, test_index in kf.split(X):\n",
    "        rfr = RandomForestRegressor(n_estimators=n_est_5cv\n",
    "                                ,random_state=random_state_5cv\n",
    "                                ,max_depth=max_depth_5cv\n",
    "                                ,max_features=i)\n",
    "        train_x, train_y = X[train_index], y[train_index]\n",
    "        test_x, test_y = X[test_index], y[test_index]\n",
    "        prediction = rfr.fit(train_x, train_y).predict(test_x)\n",
    "        score = r2_score(test_y, prediction)\n",
    "        score_all.append(score)\n",
    "        \n",
    "    score_mean = np.mean(score_all)\n",
    "    score_5cv_all.append(score_mean)\n",
    "    \n",
    "score_max_5cv = max(score_5cv_all)\n",
    "max_features_5cv = range(int(X.shape[1]**0.1)+1, X.shape[1])[score_5cv_all.index(score_max_5cv)]\n",
    "\n",
    "print(\"Best_5cv score：{}\".format(score_max_5cv),\n",
    "      \"max_features_5cv:{}\".format(max_features_5cv))"
   ]
  },
  {
   "cell_type": "markdown",
   "id": "80f2a712",
   "metadata": {},
   "source": [
    "### 使用调整过后的参数"
   ]
  },
  {
   "cell_type": "code",
   "execution_count": null,
   "id": "ac7f06db",
   "metadata": {
    "ExecuteTime": {
     "end_time": "2022-09-05T14:11:12.646301Z",
     "start_time": "2022-09-05T14:11:12.552550Z"
    }
   },
   "outputs": [],
   "source": [
    "kf = KFold(n_splits= 5,shuffle=True,random_state=100)\n",
    "\n",
    "score_all=[]\n",
    "score_all=[]\n",
    "for train_index, test_index in kf.split(X):\n",
    "    rfr = RandomForestRegressor(n_estimators=n_est_5cv\n",
    "                            ,random_state=random_state_5cv\n",
    "                            ,max_depth=max_depth_5cv\n",
    "                            ,max_features=max_features_5cv)\n",
    "    train_x, train_y = X[train_index], y[train_index]\n",
    "    test_x, test_y = X[test_index], y[test_index]\n",
    "    regressor = rfr.fit(train_x, train_y)\n",
    "    prediction = regressor.predict(test_x)\n",
    "    score = r2_score(test_y, prediction)\n",
    "    score_all.append(score)\n",
    "        \n",
    "score_mean = np.mean(score_all)\n",
    "print('r2_score:',score_mean)"
   ]
  },
  {
   "cell_type": "code",
   "execution_count": null,
   "id": "405ffa8a",
   "metadata": {
    "ExecuteTime": {
     "end_time": "2022-08-01T08:04:13.526776Z",
     "start_time": "2022-08-01T08:04:13.507831Z"
    }
   },
   "outputs": [],
   "source": [
    "# generate = pd.read_csv('./generate.csv',index_col=0)\n",
    "# generate_prediction = regressor.predict(generate.values)\n",
    "# generate_prediction"
   ]
  },
  {
   "cell_type": "markdown",
   "id": "102f0c59",
   "metadata": {
    "ExecuteTime": {
     "end_time": "2022-07-31T02:59:08.869496Z",
     "start_time": "2022-07-31T02:59:08.869496Z"
    }
   },
   "source": [
    "********"
   ]
  },
  {
   "cell_type": "markdown",
   "id": "e70c2032",
   "metadata": {},
   "source": [
    "## XGB"
   ]
  },
  {
   "cell_type": "code",
   "execution_count": null,
   "id": "cabef279",
   "metadata": {
    "ExecuteTime": {
     "end_time": "2022-09-05T14:19:35.731038Z",
     "start_time": "2022-09-05T14:17:16.568601Z"
    }
   },
   "outputs": [],
   "source": [
    "for i in range(0,500):\n",
    "    kf = KFold(n_splits= 5,shuffle=True,random_state=i)\n",
    "\n",
    "    score_all=[]\n",
    "    for train_index, test_index in kf.split(X):\n",
    "        XGB = XGBR(random_state=60)\n",
    "        # train_index 就是分类的训练集的下标，test_index 就是分配的验证集的下标\n",
    "        train_x, train_y = X[train_index], y[train_index]  # 本组训练集\n",
    "        test_x, test_y = X[test_index], y[test_index]  # 本组验证集\n",
    "        prediction = XGB.fit(train_x, train_y).predict(test_x)\n",
    "        score = r2_score(test_y, prediction)\n",
    "        score_all.append(score)\n",
    "\n",
    "    score_mean = np.mean(score_all)\n",
    "    if score_mean > 0.70:\n",
    "        print('r2_score:',score_mean,\"random_state:\",i)"
   ]
  },
  {
   "cell_type": "code",
   "execution_count": null,
   "id": "37432d52",
   "metadata": {
    "ExecuteTime": {
     "end_time": "2022-09-05T14:20:49.907095Z",
     "start_time": "2022-09-05T14:20:49.624881Z"
    }
   },
   "outputs": [],
   "source": [
    "kf = KFold(n_splits= 5,shuffle=True,random_state=407)\n",
    "\n",
    "score_all=[]\n",
    "for train_index, test_index in kf.split(X):\n",
    "    XGB = XGBR(random_state=60)\n",
    "    train_x, train_y = X[train_index], y[train_index]\n",
    "    test_x, test_y = X[test_index], y[test_index]\n",
    "    prediction = XGB.fit(train_x, train_y).predict(test_x)\n",
    "    score = r2_score(test_y, prediction)\n",
    "    score_all.append(score)\n",
    "\n",
    "score_mean = np.mean(score_all)\n",
    "print('r2_score:',score_mean)"
   ]
  },
  {
   "cell_type": "markdown",
   "id": "dc2336ed",
   "metadata": {},
   "source": [
    "### random_state"
   ]
  },
  {
   "cell_type": "code",
   "execution_count": null,
   "id": "aab9efb1",
   "metadata": {
    "ExecuteTime": {
     "end_time": "2022-09-05T14:21:54.569969Z",
     "start_time": "2022-09-05T14:20:59.939026Z"
    }
   },
   "outputs": [],
   "source": [
    "score_5cv_all = []\n",
    "for i in range(0, 200, 1):\n",
    "    score_all=[]\n",
    "    for train_index, test_index in kf.split(X):\n",
    "        XGB = XGBR(random_state=i)\n",
    "        train_x, train_y = X[train_index], y[train_index]\n",
    "        test_x, test_y = X[test_index], y[test_index]\n",
    "        prediction = XGB.fit(train_x, train_y).predict(test_x)\n",
    "        score = r2_score(test_y, prediction)\n",
    "        score_all.append(score)\n",
    "        \n",
    "    score_mean = np.mean(score_all)\n",
    "    score_5cv_all.append(score_mean)\n",
    "    \n",
    "score_max_5cv = max(score_5cv_all)\n",
    "random_state_5cv = range(0, 200)[score_5cv_all.index(max(score_5cv_all))]\n",
    "\n",
    "print(\"Best_5cv score：{}\".format(score_max_5cv),\n",
    "      \"random_5cv:{}\".format(random_state_5cv))"
   ]
  },
  {
   "cell_type": "markdown",
   "id": "bc023ba8",
   "metadata": {},
   "source": [
    "### learning_rate"
   ]
  },
  {
   "cell_type": "code",
   "execution_count": null,
   "id": "f59e6688",
   "metadata": {
    "ExecuteTime": {
     "end_time": "2022-09-05T14:22:09.378375Z",
     "start_time": "2022-09-05T14:21:54.602881Z"
    }
   },
   "outputs": [],
   "source": [
    "score_5cv_all = []\n",
    "for i in np.arange(0.01, 0.5, 0.01):\n",
    "    score_all=[]\n",
    "    for train_index, test_index in kf.split(X):\n",
    "        XGB = XGBR(learning_rate=i\n",
    "              ,random_state=random_state_5cv)\n",
    "        train_x, train_y = X[train_index], y[train_index]\n",
    "        test_x, test_y = X[test_index], y[test_index]\n",
    "        prediction = XGB.fit(train_x, train_y).predict(test_x)\n",
    "        score = r2_score(test_y, prediction)\n",
    "        score_all.append(score)\n",
    "        \n",
    "    score_mean = np.mean(score_all)\n",
    "    score_5cv_all.append(score_mean)\n",
    "    \n",
    "score_max_5cv = max(score_5cv_all)\n",
    "n_lr_5cv = np.arange(0.01,0.5,0.01)[score_5cv_all.index(score_max_5cv)]\n",
    "\n",
    "print(\"Best_5cv score：{}\".format(score_max_5cv),\n",
    "      \"n_lr_5cv:{}\".format(n_lr_5cv))"
   ]
  },
  {
   "cell_type": "markdown",
   "id": "b8796391",
   "metadata": {},
   "source": [
    "### n_estimators"
   ]
  },
  {
   "cell_type": "code",
   "execution_count": null,
   "id": "30ca6455",
   "metadata": {
    "ExecuteTime": {
     "end_time": "2022-09-05T14:25:27.432914Z",
     "start_time": "2022-09-05T14:22:09.412285Z"
    }
   },
   "outputs": [],
   "source": [
    "score_5cv_all = []\n",
    "for i in range(1, 400, 1):\n",
    "    score_all=[]\n",
    "    for train_index, test_index in kf.split(X):\n",
    "        XGB = XGBR(n_estimators=i\n",
    "               ,learning_rate=n_lr_5cv\n",
    "               ,random_state=random_state_5cv)\n",
    "        train_x, train_y = X[train_index], y[train_index]\n",
    "        test_x, test_y = X[test_index], y[test_index]\n",
    "        prediction = XGB.fit(train_x, train_y).predict(test_x)\n",
    "        score = r2_score(test_y, prediction)\n",
    "        score_all.append(score)\n",
    "        \n",
    "    score_mean = np.mean(score_all)\n",
    "    score_5cv_all.append(score_mean)\n",
    "    \n",
    "score_max_5cv = max(score_5cv_all)\n",
    "n_est_5cv = range(1,400)[score_5cv_all.index(score_max_5cv)]\n",
    "\n",
    "print(\"Best_5cv score：{}\".format(score_max_5cv),\n",
    "      \"n_est_5cv:{}\".format(n_est_5cv))"
   ]
  },
  {
   "cell_type": "markdown",
   "id": "31e2537e",
   "metadata": {},
   "source": [
    "### max_depth"
   ]
  },
  {
   "cell_type": "code",
   "execution_count": null,
   "id": "d2a7175a",
   "metadata": {
    "ExecuteTime": {
     "end_time": "2022-09-05T14:25:53.389513Z",
     "start_time": "2022-09-05T14:25:27.466824Z"
    }
   },
   "outputs": [],
   "source": [
    "score_5cv_all = []\n",
    "for i in range(1, 300, 1):\n",
    "    score_all=[]\n",
    "    for train_index, test_index in kf.split(X):\n",
    "        XGB = XGBR(n_estimators=n_est_5cv\n",
    "               ,learning_rate=n_lr_5cv\n",
    "               ,random_state=random_state_5cv\n",
    "               ,max_depth=i)\n",
    "        train_x, train_y = X[train_index], y[train_index]\n",
    "        test_x, test_y = X[test_index], y[test_index]\n",
    "        prediction = XGB.fit(train_x, train_y).predict(test_x)\n",
    "        score = r2_score(test_y, prediction)\n",
    "        score_all.append(score)\n",
    "        \n",
    "    score_mean = np.mean(score_all)\n",
    "    score_5cv_all.append(score_mean)\n",
    "    \n",
    "score_max_5cv = max(score_5cv_all)\n",
    "max_depth_5cv = range(1,300)[score_5cv_all.index(score_max_5cv)]\n",
    "\n",
    "print(\"Best_5cv score：{}\".format(score_max_5cv),\n",
    "      \"max_depth_5cv:{}\".format(max_depth_5cv))"
   ]
  },
  {
   "cell_type": "markdown",
   "id": "3de7e9c7",
   "metadata": {},
   "source": [
    "### gamma"
   ]
  },
  {
   "cell_type": "code",
   "execution_count": null,
   "id": "194f8287",
   "metadata": {
    "ExecuteTime": {
     "end_time": "2022-09-05T14:26:01.184671Z",
     "start_time": "2022-09-05T14:25:53.422425Z"
    }
   },
   "outputs": [],
   "source": [
    "score_5cv_all = []\n",
    "for i in np.arange(0,5,0.05):\n",
    "    score_all=[]\n",
    "    for train_index, test_index in kf.split(X):\n",
    "        XGB = XGBR(n_estimators=n_est_5cv\n",
    "               ,learning_rate=n_lr_5cv\n",
    "               ,random_state=random_state_5cv\n",
    "               ,max_depth=max_depth_5cv\n",
    "               ,gamma=i)\n",
    "        train_x, train_y = X[train_index], y[train_index]\n",
    "        test_x, test_y = X[test_index], y[test_index]\n",
    "        prediction = XGB.fit(train_x, train_y).predict(test_x)\n",
    "        score = r2_score(test_y, prediction)\n",
    "        score_all.append(score)\n",
    "        \n",
    "    score_mean = np.mean(score_all)\n",
    "    score_5cv_all.append(score_mean)\n",
    "    \n",
    "score_max_5cv = max(score_5cv_all)\n",
    "max_gamma_5cv =  np.arange(0,5,0.05)[score_5cv_all.index(score_max_5cv)]\n",
    "\n",
    "print(\"Best_5cv score：{}\".format(score_max_5cv),\n",
    "      \"max_gamma_5cv:{}\".format(max_gamma_5cv))"
   ]
  },
  {
   "cell_type": "markdown",
   "id": "10c834ed",
   "metadata": {},
   "source": [
    "### alpha"
   ]
  },
  {
   "cell_type": "code",
   "execution_count": null,
   "id": "5bd9677e",
   "metadata": {
    "ExecuteTime": {
     "end_time": "2022-09-05T14:26:08.949909Z",
     "start_time": "2022-09-05T14:26:01.218581Z"
    }
   },
   "outputs": [],
   "source": [
    "score_5cv_all = []\n",
    "for i in np.arange(0,5,0.05):\n",
    "    score_all=[]\n",
    "    for train_index, test_index in kf.split(X):\n",
    "        XGB = XGBR(n_estimators=n_est_5cv,\n",
    "               learning_rate=n_lr_5cv\n",
    "               ,random_state=random_state_5cv\n",
    "               ,max_depth=max_depth_5cv\n",
    "               ,gamma=max_gamma_5cv \n",
    "               ,alpha=i\n",
    "                  )\n",
    "        train_x, train_y = X[train_index], y[train_index]\n",
    "        test_x, test_y = X[test_index], y[test_index]\n",
    "        prediction = XGB.fit(train_x, train_y).predict(test_x)\n",
    "        score = r2_score(test_y, prediction)\n",
    "        score_all.append(score)\n",
    "        \n",
    "    score_mean = np.mean(score_all)\n",
    "    score_5cv_all.append(score_mean)\n",
    "    \n",
    "score_max_5cv = max(score_5cv_all)\n",
    "max_alpha_5cv =  np.arange(0,5,0.05)[score_5cv_all.index(score_max_5cv)]\n",
    "\n",
    "print(\"Best_5cv score：{}\".format(score_max_5cv),\n",
    "      \"max_alpha_5cv:{}\".format(max_alpha_5cv))"
   ]
  },
  {
   "cell_type": "markdown",
   "id": "3d3287e6",
   "metadata": {},
   "source": [
    "### 使用调整过后的参数"
   ]
  },
  {
   "cell_type": "code",
   "execution_count": null,
   "id": "9cdccf7b",
   "metadata": {
    "ExecuteTime": {
     "end_time": "2022-09-05T14:27:02.830117Z",
     "start_time": "2022-09-05T14:27:02.737403Z"
    }
   },
   "outputs": [],
   "source": [
    "kf = KFold(n_splits= 5,shuffle=True,random_state=407)\n",
    "\n",
    "score_all=[]\n",
    "for train_index, test_index in kf.split(X):\n",
    "    XGB = XGBR(n_estimators=n_est_5cv,\n",
    "           learning_rate=n_lr_5cv\n",
    "           ,random_state=random_state_5cv\n",
    "           ,max_depth=max_depth_5cv\n",
    "           ,gamma=max_gamma_5cv \n",
    "           ,alpha=max_alpha_5cv\n",
    "              )\n",
    "    train_x, train_y = X[train_index], y[train_index]\n",
    "    test_x, test_y = X[test_index], y[test_index]\n",
    "    regressor = XGB.fit(train_x, train_y)\n",
    "    prediction = regressor.predict(test_x)\n",
    "    score = r2_score(test_y, prediction)\n",
    "    score_all.append(score)\n",
    "\n",
    "score_mean = np.mean(score_all)\n",
    "print('r2_score:',score_mean)"
   ]
  },
  {
   "cell_type": "code",
   "execution_count": null,
   "id": "63c82a29",
   "metadata": {
    "ExecuteTime": {
     "end_time": "2022-08-01T08:29:01.066719Z",
     "start_time": "2022-08-01T08:29:01.054753Z"
    }
   },
   "outputs": [],
   "source": [
    "# generate_prediction = regressor.predict(generate.values)\n",
    "# generate_prediction"
   ]
  },
  {
   "cell_type": "markdown",
   "id": "6d9c3cdd",
   "metadata": {},
   "source": [
    "*********"
   ]
  },
  {
   "cell_type": "markdown",
   "id": "e6ae7c25",
   "metadata": {},
   "source": [
    "## KNN"
   ]
  },
  {
   "cell_type": "code",
   "execution_count": null,
   "id": "72498a25",
   "metadata": {
    "ExecuteTime": {
     "end_time": "2022-09-05T14:20:30.006703Z",
     "start_time": "2022-09-05T14:20:28.549571Z"
    }
   },
   "outputs": [],
   "source": [
    "for i in range(0,500):\n",
    "    kf = KFold(n_splits= 5,shuffle=True,random_state=i)\n",
    "\n",
    "    score_all=[]\n",
    "    for train_index, test_index in kf.split(X):\n",
    "        knr = KNR()\n",
    "        # train_index 就是分类的训练集的下标，test_index 就是分配的验证集的下标\n",
    "        train_x, train_y = X[train_index], y[train_index]  # 本组训练集\n",
    "        test_x, test_y = X[test_index], y[test_index]  # 本组验证集\n",
    "        prediction = knr.fit(train_x, train_y).predict(test_x)\n",
    "        score = r2_score(test_y, prediction)\n",
    "        score_all.append(score)\n",
    "\n",
    "    score_mean = np.mean(score_all)\n",
    "    if score_mean > 0.75:\n",
    "        print('r2_score:',score_mean,\"random_state:\",i)"
   ]
  },
  {
   "cell_type": "code",
   "execution_count": null,
   "id": "76fb2955",
   "metadata": {
    "ExecuteTime": {
     "end_time": "2022-09-05T14:27:17.474319Z",
     "start_time": "2022-09-05T14:27:17.451381Z"
    }
   },
   "outputs": [],
   "source": [
    "kf = KFold(n_splits= 5,shuffle=True,random_state=100)\n",
    "\n",
    "score_all=[]\n",
    "for train_index, test_index in kf.split(X):\n",
    "    knr = KNR()\n",
    "    train_x, train_y = X[train_index], y[train_index]\n",
    "    test_x, test_y = X[test_index], y[test_index]\n",
    "    prediction = knr.fit(train_x, train_y).predict(test_x)\n",
    "    score = r2_score(test_y, prediction)\n",
    "    score_all.append(score)\n",
    "\n",
    "score_mean = np.mean(score_all)\n",
    "print('r2_score:',score_mean)"
   ]
  },
  {
   "cell_type": "code",
   "execution_count": null,
   "id": "c55fdcc7",
   "metadata": {
    "ExecuteTime": {
     "end_time": "2022-09-05T14:27:17.950077Z",
     "start_time": "2022-09-05T14:27:17.901178Z"
    }
   },
   "outputs": [],
   "source": [
    "score_5cv_all = []\n",
    "for i in range(1, 11):\n",
    "    score_all=[]\n",
    "    for train_index, test_index in kf.split(X):\n",
    "        knr = KNR(weights='uniform'\n",
    "                 ,n_neighbors=i)\n",
    "        train_x, train_y = X[train_index], y[train_index]\n",
    "        test_x, test_y = X[test_index], y[test_index]\n",
    "        prediction = knr.fit(train_x, train_y).predict(test_x)\n",
    "        score = r2_score(test_y, prediction)\n",
    "        score_all.append(score)\n",
    "        \n",
    "    score_mean = np.mean(score_all)\n",
    "    score_5cv_all.append(score_mean)\n",
    "    \n",
    "score_max_5cv = max(score_5cv_all)\n",
    "max_n_neighbors =  range(1, 11)[score_5cv_all.index(score_max_5cv)]\n",
    "\n",
    "print(\"Best_5cv score：{}\".format(score_max_5cv),\n",
    "      \"max_n_neighbors:{}\".format(max_n_neighbors))"
   ]
  },
  {
   "cell_type": "code",
   "execution_count": null,
   "id": "4e04b5b3",
   "metadata": {
    "ExecuteTime": {
     "end_time": "2022-09-05T14:27:18.472649Z",
     "start_time": "2022-09-05T14:27:18.428766Z"
    }
   },
   "outputs": [],
   "source": [
    "score_5cv_all = []\n",
    "for i in range(1, 11):\n",
    "    score_all=[]\n",
    "    for train_index, test_index in kf.split(X):\n",
    "        knr = KNR(weights='distance'\n",
    "                 ,n_neighbors=i)\n",
    "        train_x, train_y = X[train_index], y[train_index]\n",
    "        test_x, test_y = X[test_index], y[test_index]\n",
    "        prediction = knr.fit(train_x, train_y).predict(test_x)\n",
    "        score = r2_score(test_y, prediction)\n",
    "        score_all.append(score)\n",
    "        \n",
    "    score_mean = np.mean(score_all)\n",
    "    score_5cv_all.append(score_mean)\n",
    "    \n",
    "score_max_5cv = max(score_5cv_all)\n",
    "max_n_neighbors =  range(1, 11)[score_5cv_all.index(score_max_5cv)]\n",
    "\n",
    "print(\"Best_5cv score：{}\".format(score_max_5cv),\n",
    "      \"max_n_neighbors:{}\".format(max_n_neighbors))"
   ]
  },
  {
   "cell_type": "code",
   "execution_count": null,
   "id": "b33b1a94",
   "metadata": {
    "ExecuteTime": {
     "end_time": "2022-09-05T14:28:25.514255Z",
     "start_time": "2022-09-05T14:28:25.460399Z"
    }
   },
   "outputs": [],
   "source": [
    "score_5cv_all = []\n",
    "for i in range(1, 6):\n",
    "    score_all=[]\n",
    "    for train_index, test_index in kf.split(X):\n",
    "        knr = KNR(weights='distance'\n",
    "                 ,n_neighbors=1\n",
    "                 ,p=i)\n",
    "        train_x, train_y = X[train_index], y[train_index]\n",
    "        test_x, test_y = X[test_index], y[test_index]\n",
    "        prediction = knr.fit(train_x, train_y).predict(test_x)\n",
    "        score = r2_score(test_y, prediction)\n",
    "        score_all.append(score)\n",
    "        \n",
    "    score_mean = np.mean(score_all)\n",
    "    score_5cv_all.append(score_mean)\n",
    "    \n",
    "score_max_5cv = max(score_5cv_all)\n",
    "max_p =  range(1, 6)[score_5cv_all.index(score_max_5cv)]\n",
    "\n",
    "print(\"Best_5cv score：{}\".format(score_max_5cv),\n",
    "      \"max_p:{}\".format(max_p))"
   ]
  },
  {
   "cell_type": "markdown",
   "id": "a6e66201",
   "metadata": {},
   "source": [
    "### 使用调整过后的参数"
   ]
  },
  {
   "cell_type": "code",
   "execution_count": null,
   "id": "39bcc2b5",
   "metadata": {
    "ExecuteTime": {
     "end_time": "2022-09-05T14:28:35.878401Z",
     "start_time": "2022-09-05T14:28:35.861447Z"
    }
   },
   "outputs": [],
   "source": [
    "score_all=[]\n",
    "for train_index, test_index in kf.split(X):\n",
    "    knr = KNR(weights='distance'\n",
    "                 ,n_neighbors=1\n",
    "                 ,p=2)\n",
    "    train_x, train_y = X[train_index], y[train_index]\n",
    "    test_x, test_y = X[test_index], y[test_index]\n",
    "    regressor = knr.fit(train_x, train_y)\n",
    "    prediction = regressor.predict(test_x)\n",
    "    score = r2_score(test_y, prediction)\n",
    "    score_all.append(score)\n",
    "\n",
    "score_mean = np.mean(score_all)\n",
    "print('r2_score:',score_mean)"
   ]
  },
  {
   "cell_type": "code",
   "execution_count": null,
   "id": "c24f0da8",
   "metadata": {
    "ExecuteTime": {
     "end_time": "2022-08-01T08:30:24.188839Z",
     "start_time": "2022-08-01T08:30:24.176871Z"
    }
   },
   "outputs": [],
   "source": [
    "# generate_prediction = regressor.predict(generate.values)\n",
    "# generate_prediction"
   ]
  },
  {
   "cell_type": "code",
   "execution_count": null,
   "id": "da5dbd66",
   "metadata": {},
   "outputs": [],
   "source": []
  }
 ],
 "metadata": {
  "kernelspec": {
   "display_name": "Python 3 (ipykernel)",
   "language": "python",
   "name": "python3"
  },
  "language_info": {
   "codemirror_mode": {
    "name": "ipython",
    "version": 3
   },
   "file_extension": ".py",
   "mimetype": "text/x-python",
   "name": "python",
   "nbconvert_exporter": "python",
   "pygments_lexer": "ipython3",
   "version": "3.7.10"
  },
  "varInspector": {
   "cols": {
    "lenName": 16,
    "lenType": 16,
    "lenVar": 40
   },
   "kernels_config": {
    "python": {
     "delete_cmd_postfix": "",
     "delete_cmd_prefix": "del ",
     "library": "var_list.py",
     "varRefreshCmd": "print(var_dic_list())"
    },
    "r": {
     "delete_cmd_postfix": ") ",
     "delete_cmd_prefix": "rm(",
     "library": "var_list.r",
     "varRefreshCmd": "cat(var_dic_list()) "
    }
   },
   "types_to_exclude": [
    "module",
    "function",
    "builtin_function_or_method",
    "instance",
    "_Feature"
   ],
   "window_display": false
  },
  "vscode": {
   "interpreter": {
    "hash": "da43d63a06eccb5f054a604acbc197699510bdbe7db85fa81092a47d4a56d36d"
   }
  }
 },
 "nbformat": 4,
 "nbformat_minor": 5
}
