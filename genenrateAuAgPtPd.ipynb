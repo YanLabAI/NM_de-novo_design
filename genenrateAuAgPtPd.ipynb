{
 "cells": [
  {
   "cell_type": "code",
   "execution_count": 1,
   "id": "e6d87360",
   "metadata": {
    "ExecuteTime": {
     "end_time": "2022-01-04T12:24:27.653718Z",
     "start_time": "2022-01-04T12:24:27.649670Z"
    },
    "scrolled": true
   },
   "outputs": [
    {
     "name": "stdout",
     "output_type": "stream",
     "text": [
      "env: CUDA_VISIBLE_DEVICES=0\n"
     ]
    }
   ],
   "source": [
    "%env CUDA_VISIBLE_DEVICES=0"
   ]
  },
  {
   "cell_type": "code",
   "execution_count": 2,
   "id": "7757e6f3",
   "metadata": {
    "ExecuteTime": {
     "end_time": "2022-01-04T12:24:33.594954Z",
     "start_time": "2022-01-04T12:24:33.580600Z"
    }
   },
   "outputs": [],
   "source": [
    "%load_ext autoreload\n",
    "%autoreload 2"
   ]
  },
  {
   "cell_type": "code",
   "execution_count": 1,
   "id": "a155241d",
   "metadata": {
    "ExecuteTime": {
     "end_time": "2022-09-05T01:52:04.422114Z",
     "start_time": "2022-09-05T01:52:04.416126Z"
    }
   },
   "outputs": [],
   "source": [
    "import sys\n",
    "sys.path.append('./release_nano/')"
   ]
  },
  {
   "cell_type": "code",
   "execution_count": 2,
   "id": "b24fd453",
   "metadata": {
    "ExecuteTime": {
     "end_time": "2022-09-05T01:52:06.431138Z",
     "start_time": "2022-09-05T01:52:05.352645Z"
    }
   },
   "outputs": [
    {
     "name": "stderr",
     "output_type": "stream",
     "text": [
      "C:\\Users\\PC1\\anaconda3\\envs\\pytorch\\lib\\site-packages\\tqdm\\auto.py:22: TqdmWarning: IProgress not found. Please update jupyter and ipywidgets. See https://ipywidgets.readthedocs.io/en/stable/user_install.html\n",
      "  from .autonotebook import tqdm as notebook_tqdm\n"
     ]
    }
   ],
   "source": [
    "import torch\n",
    "import torch.nn as nn\n",
    "from torch.optim.lr_scheduler import ExponentialLR, StepLR\n",
    "import torch.nn.functional as F"
   ]
  },
  {
   "cell_type": "code",
   "execution_count": 3,
   "id": "36df4929",
   "metadata": {
    "ExecuteTime": {
     "end_time": "2022-09-05T01:52:16.098026Z",
     "start_time": "2022-09-05T01:52:16.079079Z"
    }
   },
   "outputs": [
    {
     "data": {
      "text/plain": [
       "False"
      ]
     },
     "execution_count": 3,
     "metadata": {},
     "output_type": "execute_result"
    }
   ],
   "source": [
    "use_cuda = torch.cuda.is_available()\n",
    "use_cuda"
   ]
  },
  {
   "cell_type": "code",
   "execution_count": 4,
   "id": "269e425d",
   "metadata": {
    "ExecuteTime": {
     "end_time": "2022-09-05T01:52:18.847775Z",
     "start_time": "2022-09-05T01:52:18.093833Z"
    },
    "scrolled": true
   },
   "outputs": [],
   "source": [
    "import numpy as np\n",
    "from tqdm import tqdm, trange\n",
    "import pickle\n",
    "from rdkit import Chem, DataStructs\n",
    "from stackRNN import StackAugmentedRNN\n",
    "from data import GeneratorData\n",
    "from util import canonical_smiles"
   ]
  },
  {
   "cell_type": "code",
   "execution_count": 5,
   "id": "1355c817",
   "metadata": {
    "ExecuteTime": {
     "end_time": "2022-09-05T01:52:21.193451Z",
     "start_time": "2022-09-05T01:52:20.582705Z"
    }
   },
   "outputs": [],
   "source": [
    "import matplotlib.pyplot as plt\n",
    "%matplotlib inline\n",
    "#没有这句话需要加上plt.show()才能显示画图\n",
    "import seaborn as sns"
   ]
  },
  {
   "cell_type": "code",
   "execution_count": 6,
   "id": "04ce1f0c",
   "metadata": {
    "ExecuteTime": {
     "end_time": "2022-09-05T01:52:22.515937Z",
     "start_time": "2022-09-05T01:52:22.511948Z"
    }
   },
   "outputs": [],
   "source": [
    "gen_data_path = './SupplementaryData_AuAgPtPd.smi'"
   ]
  },
  {
   "cell_type": "code",
   "execution_count": 7,
   "id": "ce62916b",
   "metadata": {
    "ExecuteTime": {
     "end_time": "2022-09-05T01:52:23.515838Z",
     "start_time": "2022-09-05T01:52:23.502874Z"
    }
   },
   "outputs": [],
   "source": [
    "tokens = ['<', '>' ,'#', ')', '(', '[',']','{','}','@',':','*','+', '-', '/',',', '.', '1', '0', '3', '2', '5', '4', '7','T',\n",
    "          '6', '9', '8', '=', 'A', 'B', 'C', 'D', 'E', 'F', 'G', 'H', 'I','J', 'K', 'L', 'M', 'N', '[', ']',\n",
    "          'O', 'P', 'Q', 'R', 'S', 'T', 'U', 'V', 'W','X', 'Y', 'Z','r', 's', 't', 'u', 'v', 'w', 'x', 'y', 'z',\n",
    "          '\\\\', 'a', 'b', 'c', 'd', 'e', 'f', 'g', 'h', 'i', 'j', 'k', 'l', 'm','n', 'o', 'p', '-']\n",
    "gen_data = GeneratorData(training_data_path=gen_data_path, delimiter='\\t', \n",
    "                         cols_to_read=[0], keep_header=True, tokens=tokens)"
   ]
  },
  {
   "cell_type": "code",
   "execution_count": 8,
   "id": "f384af86",
   "metadata": {
    "ExecuteTime": {
     "end_time": "2022-09-05T01:52:25.278024Z",
     "start_time": "2022-09-05T01:52:25.263065Z"
    }
   },
   "outputs": [],
   "source": [
    "def plot_hist(prediction, n_to_generate):\n",
    "    print(\"Mean value of predictions:\", prediction.mean())\n",
    "    print(\"Proportion of valid SMILES:\", len(prediction)/n_to_generate)\n",
    "    ax = sns.kdeplot(prediction, shade=True)\n",
    "    ax.set(xlabel='Predicted pIC50', \n",
    "           title='Distribution of predicted pIC50 for generated molecules')\n",
    "    plt.show()"
   ]
  },
  {
   "cell_type": "code",
   "execution_count": 9,
   "id": "b7ec6570",
   "metadata": {
    "ExecuteTime": {
     "end_time": "2022-09-05T01:52:32.828532Z",
     "start_time": "2022-09-05T01:52:32.799609Z"
    }
   },
   "outputs": [],
   "source": [
    "hidden_size = 300\n",
    "stack_width = 300\n",
    "stack_depth = 250\n",
    "layer_type = 'GRU'\n",
    "lr = 0.001\n",
    "optimizer_instance = torch.optim.Adadelta\n",
    "\n",
    "\n",
    "my_generator = StackAugmentedRNN(input_size=gen_data.n_characters, hidden_size=hidden_size,\n",
    "                                 output_size=gen_data.n_characters, layer_type=layer_type,\n",
    "                                 n_layers=1, is_bidirectional=False, has_stack=True,\n",
    "                                 stack_width=stack_width, stack_depth=stack_depth, \n",
    "                                 use_cuda=use_cuda, \n",
    "                                 optimizer_instance=optimizer_instance, lr=lr)"
   ]
  },
  {
   "cell_type": "code",
   "execution_count": 13,
   "id": "34f7c687",
   "metadata": {
    "ExecuteTime": {
     "end_time": "2022-01-22T11:22:16.676663Z",
     "start_time": "2022-01-22T11:22:16.486169Z"
    }
   },
   "outputs": [
    {
     "data": {
      "image/png": "[encoded data removed]",
      "text/plain": [
       "<Figure size 432x288 with 1 Axes>"
      ]
     },
     "metadata": {
      "needs_background": "light"
     },
     "output_type": "display_data"
    }
   ],
   "source": [
    "plt.plot(losses)\n",
    "plt.savefig('Training loss.png', dpi=300)"
   ]
  },
  {
   "cell_type": "code",
   "execution_count": 10,
   "id": "0fe474a6",
   "metadata": {
    "ExecuteTime": {
     "end_time": "2022-09-05T01:52:41.475856Z",
     "start_time": "2022-09-05T01:52:41.457904Z"
    }
   },
   "outputs": [
    {
     "name": "stdout",
     "output_type": "stream",
     "text": [
      "d:\\Desktop\\task0\\generate\\generate20220707\n"
     ]
    }
   ],
   "source": [
    "import os\n",
    "print(os.getcwd())"
   ]
  },
  {
   "cell_type": "code",
   "execution_count": 11,
   "id": "4ef3d98f",
   "metadata": {
    "ExecuteTime": {
     "end_time": "2022-09-05T01:52:44.067681Z",
     "start_time": "2022-09-05T01:52:44.050699Z"
    }
   },
   "outputs": [],
   "source": [
    "model_path = './model/checkpoint_biggest_rnn'\n"
   ]
  },
  {
   "cell_type": "code",
   "execution_count": 12,
   "id": "c791f134",
   "metadata": {
    "ExecuteTime": {
     "end_time": "2022-09-05T01:52:46.813148Z",
     "start_time": "2022-09-05T01:52:46.648589Z"
    }
   },
   "outputs": [
    {
     "name": "stderr",
     "output_type": "stream",
     "text": [
      "d:\\Desktop\\task0\\generate\\generate20220707\\./release_nano\\data.py:100: UserWarning: To copy construct from a tensor, it is recommended to use sourceTensor.clone().detach() or sourceTensor.clone().detach().requires_grad_(True), rather than torch.tensor(sourceTensor).\n",
      "  return torch.tensor(tensor)\n"
     ]
    },
    {
     "data": {
      "text/plain": [
       "'<ZZv4-L,\\\\sWYKyi9d++UOZgd7}o(th*xGTLCK.lh1Ko[,m@3T0[8-YS+pm\\\\Y9ibhsv(tcVb7Ko8XfTO+ITM1:3zTt9T5sVUDooB\\\\Z'"
      ]
     },
     "execution_count": 12,
     "metadata": {},
     "output_type": "execute_result"
    }
   ],
   "source": [
    "my_generator.evaluate(gen_data)"
   ]
  },
  {
   "cell_type": "code",
   "execution_count": 22,
   "id": "1a55c701",
   "metadata": {
    "ExecuteTime": {
     "end_time": "2022-01-22T11:29:34.533267Z",
     "start_time": "2022-01-22T11:29:34.527578Z"
    }
   },
   "outputs": [],
   "source": [
    "def estimate_and_update(generator, n_to_generate, **kwargs):\n",
    "    generated = []\n",
    "    pbar = tqdm(range(n_to_generate))\n",
    "    for i in pbar:\n",
    "        pbar.set_description(\"Generating molecules...\")\n",
    "        generated.append(generator.evaluate(gen_data, predict_len=200)[1:-1])\n",
    "\n",
    "    sanitized = canonical_smiles(generated, sanitize=False, throw_warning=False)[:-1]\n",
    "    unique_smiles = list(np.unique(sanitized))[1:]\n",
    "#     smiles, prediction, nan_smiles = predictor.predict(unique_smiles, get_features=get_fp)  \n",
    "                                                       \n",
    "#     plot_hist(prediction, n_to_generate)\n",
    "        \n",
    "    return unique_smiles\n"
   ]
  },
  {
   "cell_type": "code",
   "execution_count": null,
   "id": "cb55e12c",
   "metadata": {},
   "outputs": [],
   "source": []
  }
 ],
 "metadata": {
  "kernelspec": {
   "display_name": "pytorch",
   "language": "python",
   "name": "pytorch"
  },
  "language_info": {
   "codemirror_mode": {
    "name": "ipython",
    "version": 3
   },
   "file_extension": ".py",
   "mimetype": "text/x-python",
   "name": "python",
   "nbconvert_exporter": "python",
   "pygments_lexer": "ipython3",
   "version": "3.9.10"
  },
  "varInspector": {
   "cols": {
    "lenName": 16,
    "lenType": 16,
    "lenVar": 40
   },
   "kernels_config": {
    "python": {
     "delete_cmd_postfix": "",
     "delete_cmd_prefix": "del ",
     "library": "var_list.py",
     "varRefreshCmd": "print(var_dic_list())"
    },
    "r": {
     "delete_cmd_postfix": ") ",
     "delete_cmd_prefix": "rm(",
     "library": "var_list.r",
     "varRefreshCmd": "cat(var_dic_list()) "
    }
   },
   "types_to_exclude": [
    "module",
    "function",
    "builtin_function_or_method",
    "instance",
    "_Feature"
   ],
   "window_display": false
  },
  "vscode": {
   "interpreter": {
    "hash": "716788edf4307168dd914c64c68bd685ddbe66832ac0a9c7df6a667b092fb74a"
   }
  }
 },
 "nbformat": 4,
 "nbformat_minor": 5
}
